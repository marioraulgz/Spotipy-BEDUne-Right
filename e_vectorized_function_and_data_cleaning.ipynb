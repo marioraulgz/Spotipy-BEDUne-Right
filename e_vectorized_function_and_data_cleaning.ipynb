{
 "cells": [
  {
   "cell_type": "code",
   "execution_count": 1,
   "id": "moderate-january",
   "metadata": {},
   "outputs": [],
   "source": [
    "import pandas as pd\n",
    "import spotipy\n",
    "from spotipy.oauth2 import SpotifyClientCredentials"
   ]
  },
  {
   "cell_type": "code",
   "execution_count": 2,
   "id": "equivalent-optimum",
   "metadata": {},
   "outputs": [],
   "source": [
    "client_id = '72654f91e8424dc8b4924dc4cdf3674a'\n",
    "client_secret='968caf037e674bb0a89533fde2831f25'"
   ]
  },
  {
   "cell_type": "code",
   "execution_count": 3,
   "id": "beginning-fourth",
   "metadata": {},
   "outputs": [],
   "source": [
    "auth_manager = SpotifyClientCredentials(client_id = client_id,\n",
    "                                       client_secret = client_secret)"
   ]
  },
  {
   "cell_type": "code",
   "execution_count": 4,
   "id": "unlikely-blink",
   "metadata": {},
   "outputs": [],
   "source": [
    "sp = spotipy.Spotify(auth_manager=auth_manager)"
   ]
  },
  {
   "cell_type": "code",
   "execution_count": 16,
   "id": "sporting-device",
   "metadata": {},
   "outputs": [],
   "source": [
    "def playlist_features(playlist_id):\n",
    "    json = sp.playlist_tracks(playlist_id = playlist_id)\n",
    "    json_items = json['items']\n",
    "    df_normalized = pd.json_normalize(json_items)\n",
    "    lista_tracks_ids = list(df_normalized['track.id'])\n",
    "    json_features = sp.audio_features(tracks = lista_tracks_ids)\n",
    "    df_features = pd.DataFrame(json_features)\n",
    "    df = pd.merge(left = df_normalized,\n",
    "                  right = df_features,\n",
    "                  left_on = 'track.id',\n",
    "                  right_on = 'id')\n",
    "    return df"
   ]
  },
  {
   "cell_type": "code",
   "execution_count": 17,
   "id": "lined-retention",
   "metadata": {},
   "outputs": [],
   "source": [
    "df_top_2020 = playlist_features(playlist_id = '37i9dQZF1DXdJSo3JjzjFs')"
   ]
  },
  {
   "cell_type": "code",
   "execution_count": 23,
   "id": "bottom-angola",
   "metadata": {},
   "outputs": [],
   "source": [
    "top_ids_per_year = ['37i9dQZF1DX7Jl5KP2eZaS',\n",
    "                    '37i9dQZF1DWVRSukIED0e9',\n",
    "                    '37i9dQZF1DXe2bobNYDtW8',\n",
    "                    '37i9dQZF1DWTE7dVUebpUW',\n",
    "                    '37i9dQZF1DX8XZ6AUo9R4R',\n",
    "                    '37i9dQZF1DX9ukdrXQLJGZ',\n",
    "                    '37i9dQZF1DX0h0QnLkMBl4',\n",
    "                    '37i9dQZF1DX3Sp0P28SIer',\n",
    "                    '37i9dQZF1DX0yEZaMOXna3',\n",
    "                    '37i9dQZF1DXcagnSNtrGuJ',\n",
    "                    '37i9dQZF1DXc6IFF23C9jj',\n",
    "                    '37i9dQZF1DX4UkKv8ED8jp',\n",
    "                    '37i9dQZF1DWYuGZUE4XQXm',\n",
    "                    '37i9dQZF1DX3j9EYdzv2N9',\n",
    "                    '37i9dQZF1DX1vSJnMeoy3V',\n",
    "                    '37i9dQZF1DWWzQTBs5BHX9',\n",
    "                    '37i9dQZF1DWTWdbR13PQYH',\n",
    "                    '37i9dQZF1DXaW8fzPh9b08',\n",
    "                    '37i9dQZF1DX0P7PzzKwEKl',\n",
    "                    '37i9dQZF1DX9Ol4tZWPH6V',\n",
    "                    '37i9dQZF1DWUZv12GM5cFk']"
   ]
  },
  {
   "cell_type": "code",
   "execution_count": 28,
   "id": "atmospheric-passport",
   "metadata": {},
   "outputs": [],
   "source": [
    "list_tops_per_year = list(map(playlist_features,top_ids_per_year))"
   ]
  },
  {
   "cell_type": "code",
   "execution_count": 34,
   "id": "fallen-genome",
   "metadata": {},
   "outputs": [],
   "source": [
    "df_tops_per_year = pd.concat(list_tops_per_year,\n",
    "                            ignore_index = True)"
   ]
  },
  {
   "cell_type": "code",
   "execution_count": 37,
   "id": "detailed-edition",
   "metadata": {},
   "outputs": [],
   "source": [
    "df_without_nans = df_tops_per_year.dropna(axis = 1,\n",
    "                                          how = \"any\")"
   ]
  },
  {
   "cell_type": "code",
   "execution_count": null,
   "id": "congressional-textbook",
   "metadata": {},
   "outputs": [],
   "source": []
  }
 ],
 "metadata": {
  "kernelspec": {
   "display_name": "Python 3",
   "language": "python",
   "name": "python3"
  },
  "language_info": {
   "codemirror_mode": {
    "name": "ipython",
    "version": 3
   },
   "file_extension": ".py",
   "mimetype": "text/x-python",
   "name": "python",
   "nbconvert_exporter": "python",
   "pygments_lexer": "ipython3",
   "version": "3.7.1"
  }
 },
 "nbformat": 4,
 "nbformat_minor": 5
}
