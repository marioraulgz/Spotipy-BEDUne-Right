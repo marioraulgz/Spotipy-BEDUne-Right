{
  "nbformat": 4,
  "nbformat_minor": 0,
  "metadata": {
    "colab": {
      "name": "Postwork 2 Módulo 3.ipynb",
      "provenance": [],
      "collapsed_sections": []
    },
    "kernelspec": {
      "name": "python3",
      "display_name": "Python 3"
    }
  },
  "cells": [
    {
      "cell_type": "markdown",
      "metadata": {
        "id": "gkLe5rEdD_X_"
      },
      "source": [
        "### Postwork 2: Planteamiento de preguntas"
      ]
    },
    {
      "cell_type": "markdown",
      "metadata": {
        "id": "nPBIwEjW7Tc_"
      },
      "source": [
        "Una vez que hemos identificado el problema y decidido que la mejor estrategia de diferenciación para Spotify sería la de integrar los datos generados por sus usarios y utlizarlos dentro de sus algoritmos de recomendación, podemos comenzar a plantear preguntas relacionadas no solamente a las posibles fuentes e información necesaria en el dataset, sino a la misma estructura del algortimo (el algoritmo escapa de los límites del módulo, pero tenerlo en mente nos sirve para tener clara la información útil de la que no lo es en el proceso de recopilación y limpieza)"
      ]
    },
    {
      "cell_type": "markdown",
      "metadata": {
        "id": "lLHZfNPCEyeN"
      },
      "source": [
        "##**1.- Un problema**\n",
        "Dada la alta concentración observada en el mercado de los servicios de streaming de música **¿De qué forma puede Spotify diferenciarse de su competencia siguiendo una estrategia basada en datos?**\n",
        "Después de una revisón en tonro al panorama competitvo de esta industria, sabemos que la estrategia que mejor conjunta la explotación de datos y la incorporación de nuevos usuarios es la de **la implementación y mejora de los algoritmos de recomendación.**"
      ]
    },
    {
      "cell_type": "markdown",
      "metadata": {
        "id": "KQnuYX5PFzjN"
      },
      "source": [
        "##**2.- Una serie de preguntas**\n",
        "\n",
        "\n",
        "*   ¿Podríamos disponer de los datos necesarios para ser utilizados como input en la creación de un algoritmo de recomendación de tracks musicales?\n",
        "*   ¿De qué manera segmentaríamos a los distintos usuarios con el fin de simular distintas preferencias musicales?\n",
        "*  ¿Existe una característica por encima de otras al momento de hacer una recomendación?\n",
        "*  ¿Las recomendaciones siempre se hacen dentro de los límites de un mismo género musical?\n",
        "*  ¿Es la popularidad de un track el principal factor para la recomendación, o se da un espacio a pistas menos conocidas o estrenos dentro de las opciones?\n",
        "*  ¿Son relevantes las tendencias musicales del momento al realizar la recomendación de una canción?\n",
        "*  ¿Existe la forma de robustecer el input del algoritmo con datos extraídos directamente desde Spotify a través de una API?\n",
        "\n"
      ]
    }
  ]
}