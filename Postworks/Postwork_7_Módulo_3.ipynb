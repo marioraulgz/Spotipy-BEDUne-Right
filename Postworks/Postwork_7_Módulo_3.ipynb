{
 "cells": [
  {
   "cell_type": "markdown",
   "id": "arbitrary-cheat",
   "metadata": {},
   "source": [
    "# Breve descripción\n",
    "\n",
    "En este cuaderno se tranforma el tipo de datos de algunas columnas como las fechas para la realización de filtros. Las columnas no se renombran pues tienen un nombre por ahora conveniente. \n",
    "\n",
    "Algunas agregaciones, como los mínimos y máximos de todo el DataFrame se calcular con el fin de tener referencia al realizar los reordenamientos y finalmente se llegan a algunas conclusiones."
   ]
  },
  {
   "cell_type": "code",
   "execution_count": 1,
   "id": "occupied-coral",
   "metadata": {},
   "outputs": [],
   "source": [
    "import pandas as pd # Para operar con DataFrames"
   ]
  },
  {
   "cell_type": "code",
   "execution_count": 32,
   "id": "linear-israel",
   "metadata": {},
   "outputs": [],
   "source": [
    "# Importar los datos sin NaNs ni columnas innecesarias\n",
    "df_tops_per_year = pd.read_csv(\"data_delimited.csv\",index_col = 0)"
   ]
  },
  {
   "cell_type": "code",
   "execution_count": 33,
   "id": "quantitative-tooth",
   "metadata": {},
   "outputs": [],
   "source": [
    "\"\"\"\n",
    "Diccionario de las columnas que necesitan ser convertidas\n",
    "y el tipo al que necesitan ser convertidas\n",
    "\"\"\"\n",
    "diccionario_de_conversion = {\n",
    "    'added_at': 'datetime64[ns]',\n",
    "    \"track.album.release_date\":'datetime64[ns]'\n",
    "}"
   ]
  },
  {
   "cell_type": "code",
   "execution_count": 18,
   "id": "institutional-survival",
   "metadata": {},
   "outputs": [],
   "source": [
    "# Conversión de la columans antes mencionadas\n",
    "df_tops_per_year = df_tops_per_year.astype(diccionario_de_conversion)"
   ]
  },
  {
   "cell_type": "markdown",
   "id": "helpful-tobacco",
   "metadata": {},
   "source": [
    "# Notas sobre los mínimos y máximos\n",
    "\n",
    "Mínimos\n",
    "\n",
    "- Como el mínimo en la fecha en que se agrego una canción es del 2020, quiere decir que las canciones se actualizan recurrentemente o algo por el estilo\n",
    "- A pesar de que se tienen canciones a partir del 2000 la canción más vieja es de 1998\n",
    "- Hay albumes que sólo tienen una canción\n",
    "- La mínima duración de una canción es de apróximadamente 1.883 min\n",
    "- Existe al menos una canción que no tiene parte instrumental\n",
    "\n",
    "Máximos\n",
    "\n",
    "- La canción más larga es de apróximadamente 11.47 min\n",
    "- Ninguna canción llega al 100% de energía, popularidad, danzabilidad o valencia\n",
    "- Ninguna canción es 100% instrumental, acústica y el máximo de _speechness_ es de 53%"
   ]
  },
  {
   "cell_type": "code",
   "execution_count": 35,
   "id": "incorporated-acting",
   "metadata": {},
   "outputs": [],
   "source": [
    "# Mínimos y máximos valores de cada columna\n",
    "minimums_values = df_tops_per_year.min()\n",
    "maximums_values = df_tops_per_year.max()"
   ]
  },
  {
   "cell_type": "markdown",
   "id": "funny-burton",
   "metadata": {},
   "source": [
    "# Contraste usando filtros y ordenamientos"
   ]
  },
  {
   "cell_type": "code",
   "execution_count": 55,
   "id": "indonesian-import",
   "metadata": {},
   "outputs": [],
   "source": [
    "# Canciones que duran más del 4 min\n",
    "larger_than_4_min = df_tops_per_year[df_tops_per_year[\"track.duration_ms\"] > 240000]\n",
    "\n",
    "# Canciones que duran menos de 2 min\n",
    "shorter_than_3_point_5_min = df_tops_per_year[df_tops_per_year[\"track.duration_ms\"] < 210000]"
   ]
  },
  {
   "cell_type": "code",
   "execution_count": 56,
   "id": "forward-mathematics",
   "metadata": {},
   "outputs": [
    {
     "name": "stdout",
     "output_type": "stream",
     "text": [
      "Número de canciones «largas»:  636\n",
      "Número de canciones «cortas»:  661\n",
      "Número de canciones «total»:  2050\n"
     ]
    }
   ],
   "source": [
    "print(\"Número de canciones «largas»: \",larger_than_4_min.shape[0])\n",
    "print(\"Número de canciones «cortas»: \",shorter_than_3_point_5_min.shape[0])\n",
    "print(\"Número de canciones «total»: \",df_tops_per_year.shape[0])"
   ]
  },
  {
   "cell_type": "markdown",
   "id": "atomic-nudist",
   "metadata": {},
   "source": [
    "Entonces la mayoria de las canciones duran entre 3.5 y 4 minutos"
   ]
  },
  {
   "cell_type": "code",
   "execution_count": null,
   "id": "vanilla-adult",
   "metadata": {},
   "outputs": [],
   "source": []
  }
 ],
 "metadata": {
  "kernelspec": {
   "display_name": "Python 3",
   "language": "python",
   "name": "python3"
  },
  "language_info": {
   "codemirror_mode": {
    "name": "ipython",
    "version": 3
   },
   "file_extension": ".py",
   "mimetype": "text/x-python",
   "name": "python",
   "nbconvert_exporter": "python",
   "pygments_lexer": "ipython3",
   "version": "3.7.1"
  }
 },
 "nbformat": 4,
 "nbformat_minor": 5
}
