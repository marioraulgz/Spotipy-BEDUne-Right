{
 "cells": [
  {
   "cell_type": "markdown",
   "id": "refined-eclipse",
   "metadata": {},
   "source": [
    "# Breve descripción\n",
    "\n",
    "En este cuaderno se tranforma el tipo de datos de algunas columnas como las fechas para la realización de filtros. Las columnas no se renombran pues tienen un nombre por ahora conveniente. \n",
    "\n",
    "Algunas agregaciones, como los mínimos y máximos de todo el DataFrame se calcular con el fin de tener referencia al realizar los reordenamientos y finalmente se llegan a algunas conclusiones."
   ]
  },
  {
   "cell_type": "code",
   "execution_count": 1,
   "id": "brave-laser",
   "metadata": {},
   "outputs": [],
   "source": [
    "import pandas as pd # Para operar con DataFrames"
   ]
  },
  {
   "cell_type": "code",
   "execution_count": 2,
   "id": "alert-recycling",
   "metadata": {},
   "outputs": [],
   "source": [
    "# Importar los datos sin NaNs ni columnas innecesarias\n",
    "df_tops_per_year = pd.read_csv(\"Datasets/data_delimited.csv\",index_col = 0)"
   ]
  },
  {
   "cell_type": "code",
   "execution_count": 3,
   "id": "sound-smooth",
   "metadata": {},
   "outputs": [],
   "source": [
    "\"\"\"\n",
    "Diccionario de las columnas que necesitan ser convertidas\n",
    "y el tipo al que necesitan ser convertidas\n",
    "\"\"\"\n",
    "diccionario_de_conversion = {\n",
    "    'added_at': 'datetime64[ns]',\n",
    "    \"track.album.release_date\":'datetime64[ns]'\n",
    "}"
   ]
  },
  {
   "cell_type": "code",
   "execution_count": 4,
   "id": "criminal-emission",
   "metadata": {},
   "outputs": [],
   "source": [
    "# Conversión de la columans antes mencionadas\n",
    "df_tops_per_year = df_tops_per_year.astype(diccionario_de_conversion)"
   ]
  },
  {
   "cell_type": "markdown",
   "id": "periodic-valuation",
   "metadata": {},
   "source": [
    "# Mínimos y máximos\n",
    "\n",
    "Mínimos\n",
    "\n",
    "- Como el mínimo en la fecha en que se agrego una canción es del 2020, quiere decir que las canciones se actualizan recurrentemente o algo similar\n",
    "- A pesar de que se tienen canciones a partir del 2000 la canción más vieja es de 1998\n",
    "- Hay albumes que sólo tienen una canción\n",
    "- La mínima duración de una canción es de apróximadamente 1.883 min\n",
    "- Existe al menos una canción que no tiene parte instrumental\n",
    "\n",
    "Máximos\n",
    "\n",
    "- La canción más larga es de apróximadamente 11.47 min\n",
    "- Ninguna canción llega al 100% de energía, popularidad, danzabilidad o valencia\n",
    "- Ninguna canción es 100% instrumental, acústica y el máximo de _speechness_ es de 53%"
   ]
  },
  {
   "cell_type": "code",
   "execution_count": 5,
   "id": "interpreted-soviet",
   "metadata": {},
   "outputs": [],
   "source": [
    "# Mínimos y máximos valores de cada columna\n",
    "df_min_and_max = pd.DataFrame()\n",
    "df_min_and_max['minumums'] = df_tops_per_year.min()\n",
    "df_min_and_max['maximums'] = df_tops_per_year.max()\n",
    "\n",
    "# Descomentar para observar el DataFrame\n",
    "# df_min_and_max"
   ]
  },
  {
   "cell_type": "markdown",
   "id": "broken-checkout",
   "metadata": {},
   "source": [
    "# Duración"
   ]
  },
  {
   "cell_type": "markdown",
   "id": "affected-lecture",
   "metadata": {},
   "source": [
    "Por lo siguiente se puede notar que la mayoria de las canciones duran entre 3.5 y 4 minutos"
   ]
  },
  {
   "cell_type": "code",
   "execution_count": 6,
   "id": "announced-morocco",
   "metadata": {},
   "outputs": [],
   "source": [
    "# Canciones que duran más del 4 min\n",
    "larger_than_4_min = df_tops_per_year[df_tops_per_year[\"track.duration_ms\"] > 240000]\n",
    "\n",
    "# Canciones que duran menos de 2 min\n",
    "shorter_than_3_point_5_min = df_tops_per_year[df_tops_per_year[\"track.duration_ms\"] < 210000]"
   ]
  },
  {
   "cell_type": "code",
   "execution_count": 7,
   "id": "regular-metro",
   "metadata": {},
   "outputs": [
    {
     "name": "stdout",
     "output_type": "stream",
     "text": [
      "Número de canciones «largas»:  636\n",
      "Número de canciones «cortas»:  661\n",
      "Número de canciones «total»:  2050\n"
     ]
    }
   ],
   "source": [
    "print(\"Número de canciones «largas»: \",larger_than_4_min.shape[0])\n",
    "print(\"Número de canciones «cortas»: \",shorter_than_3_point_5_min.shape[0])\n",
    "print(\"Número de canciones «total»: \",df_tops_per_year.shape[0])"
   ]
  },
  {
   "cell_type": "markdown",
   "id": "domestic-turkey",
   "metadata": {},
   "source": [
    "# Explicitud"
   ]
  },
  {
   "cell_type": "code",
   "execution_count": 8,
   "id": "equivalent-kingston",
   "metadata": {},
   "outputs": [],
   "source": [
    "# Canciones explícitas\n",
    "explicit_songs = df_tops_per_year[df_tops_per_year['track.explicit']]\n",
    "not_explicit_songs = df_tops_per_year[~df_tops_per_year['track.explicit']]"
   ]
  },
  {
   "cell_type": "code",
   "execution_count": 9,
   "id": "amino-suspect",
   "metadata": {},
   "outputs": [],
   "source": [
    "# Se seleccionan unas cuantas columnas para un major enfoque\n",
    "columns_for_explicity = ['track.duration_ms',\n",
    "                         'track.popularity',\n",
    "                         'danceability',\n",
    "                         'energy',\n",
    "                         'key',\n",
    "                         'loudness',\n",
    "                         'mode',\n",
    "                         'speechiness',\n",
    "                         'acousticness',\n",
    "                         'instrumentalness',\n",
    "                         'liveness',\n",
    "                         'valence',\n",
    "                         'tempo',\n",
    "                         'time_signature']"
   ]
  },
  {
   "cell_type": "code",
   "execution_count": 11,
   "id": "timely-liability",
   "metadata": {},
   "outputs": [],
   "source": [
    "means_explicity = pd.DataFrame()\n",
    "means_explicity['explicit'] = explicit_songs[columns_for_explicity].mean()\n",
    "means_explicity['not_explicit'] = not_explicit_songs[columns_for_explicity].mean()\n",
    "\n",
    "# Descomentar para ver el dataframe\n",
    "# means_explicity"
   ]
  },
  {
   "cell_type": "markdown",
   "id": "uniform-beach",
   "metadata": {},
   "source": [
    "Pocas cosas son diferentes entre las canciones que son explícitas y las que no lo son. La parte del «habla» (*speechiness*) y la instrumental son las que más se diferencian, puede ser porque aquellas que son más explicitas necesitan hacer más uso de las palabras y dejar en segundo plano la parte instrumental."
   ]
  },
  {
   "cell_type": "code",
   "execution_count": null,
   "id": "clinical-madonna",
   "metadata": {},
   "outputs": [],
   "source": []
  }
 ],
 "metadata": {
  "kernelspec": {
   "display_name": "Python 3",
   "language": "python",
   "name": "python3"
  },
  "language_info": {
   "codemirror_mode": {
    "name": "ipython",
    "version": 3
   },
   "file_extension": ".py",
   "mimetype": "text/x-python",
   "name": "python",
   "nbconvert_exporter": "python",
   "pygments_lexer": "ipython3",
   "version": "3.7.1"
  }
 },
 "nbformat": 4,
 "nbformat_minor": 5
}
