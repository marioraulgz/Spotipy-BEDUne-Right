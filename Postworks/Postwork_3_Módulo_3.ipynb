{
  "nbformat": 4,
  "nbformat_minor": 0,
  "metadata": {
    "colab": {
      "name": "Postwork 3 Módulo 3.ipynb",
      "provenance": [],
      "collapsed_sections": []
    },
    "kernelspec": {
      "name": "python3",
      "display_name": "Python 3"
    }
  },
  "cells": [
    {
      "cell_type": "markdown",
      "metadata": {
        "id": "kjOrRDEpZo2I"
      },
      "source": [
        "### Postwork 3: Colección de datos\n",
        "\n",
        "\n",
        "\n"
      ]
    },
    {
      "cell_type": "markdown",
      "metadata": {
        "id": "Uf5Lg8KU95d3"
      },
      "source": [
        "Hemos llegado a la sección de recopilación de datos, es importante mencionar que, investigando sobre posibles inputs para la creación de un algoritmo sencillo de recomendación, encontramos datasets que requieren de las características de las canciones escuchadas, es por ello que elegimos aquellos datasets que contienen esta información. En etapas posteriores del proyecto preferimos utilizar los datos extraídos directamente desde la API, pero para cumplir con lo establecido en este postwork, nos referimos a los sets que encontramos en Kaggle."
      ]
    },
    {
      "cell_type": "markdown",
      "metadata": {
        "id": "oolwOE8k9zDt"
      },
      "source": [
        "Dentro de la página \"Towards Data Science\" encontramos un proyecto sencillo en el que mediante algoritmos de clasificación como K-means y análisis de componentes principales podemos llegar a un sistema de recomendación de canciones similar al utilizado por spotify (aunque es importante resaltar que, Spotify combina tres algoritmos para llegar a la recomendación más refinada de tracks). En este proyecto se utilizan como input las distintas métricas que Spotify crea para definir a una canción en términos de tempo, beats por minuto, acústica, instrumentalidad, lírica, etc. Una serie de datasets similaras pueden ser encontrados en Kaggle , enfocándose en los hits de 2019 o recopilando la mayor cantidad de trakcs en un solo file. Los datasets que satisfacen más se asemejan a los utilizados en el proyecto modelo que encontramos son:\n",
        "\n",
        "\"Top 50 Spotify Songs - 2019\" https://www.kaggle.com/leonardopena/top50spotify2019\n",
        "\n",
        "\"Spotify Dataset 1921-2020, 160k+ Tracks\" https://www.kaggle.com/yamaerenay/spotify-dataset-19212020-160k-tracks"
      ]
    }
  ]
}