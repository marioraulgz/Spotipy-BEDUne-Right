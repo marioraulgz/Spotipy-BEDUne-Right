{
  "nbformat": 4,
  "nbformat_minor": 0,
  "metadata": {
    "colab": {
      "name": "Postwork 4 Módulo 3.ipynb",
      "provenance": [],
      "collapsed_sections": [
        "4-u7MCL9_YF9",
        "d0m7NZMGmxG2",
        "y96D8t4S7qr_",
        "bpKsTF2eEwVW",
        "vgoKHt-FFHJe",
        "ysiNniHPGalH"
      ],
      "toc_visible": true
    },
    "kernelspec": {
      "name": "python3",
      "display_name": "Python 3"
    }
  },
  "cells": [
    {
      "cell_type": "markdown",
      "metadata": {
        "id": "07eB-Bw2k9yH"
      },
      "source": [
        "#Postork 4: Pandas y análsis exploratorio de Datos\r\n",
        "\r\n",
        "Preguntas\r\n",
        "1.   ¿El conjunto de datos que tengo realmente me sirve para responder algunas de las preguntas que me planteé?\r\n",
        "2. ¿Qué tamaño tiene mi conjunto de datos? ¿Serán datos suficientes?\r\n",
        "3. ¿Qué columnas tengo y qué información tengo en cada una de esas columnas?\r\n",
        "4. Los nombres que tienen mis columnas, ¿son el nombre más apropiado?\r\n",
        "5. ¿Qué tipos de datos tengo en cada columna? ¿Parecen ser el tipo correcto de datos? ¿O es un tipo de datos \"incorrecto\"?\r\n",
        "6. Si selecciono algunas filas al azar y las observo, ¿estoy obteniendo los datos que debería? ¿o hay datos que parecen estar \"sucios\" o \"incorrectos\"?\r\n",
        "7. Responde estas preguntas usando las técnicas que aprendiste en esta sesión y comparte tus hallazgos con tus compañeros y tu experto.\r\n",
        "\r\n"
      ]
    },
    {
      "cell_type": "markdown",
      "metadata": {
        "id": "_ijhqku8mGkt"
      },
      "source": [
        "#1.   ¿El conjunto de datos que tengo realmente me sirve para responder algunas de las preguntas que me planteé?\r\n",
        "\r\n",
        "\r\n",
        "\r\n"
      ]
    },
    {
      "cell_type": "markdown",
      "metadata": {
        "id": "PK351YSSI0-P"
      },
      "source": [
        "\r\n",
        "El conjunto de datos utilzados (Data obtenidad de spotify o kaggle) nos sirve perfectamente para resolver todas las interrogantes planteadas, inclusive con ellos podemos realizar un modelado para la recomendación de canciones."
      ]
    },
    {
      "cell_type": "markdown",
      "metadata": {
        "id": "4-u7MCL9_YF9"
      },
      "source": [
        "#2. ¿Qué tamaño tiene mi conjunto de datos? ¿Serán datos suficientes?\r\n",
        "\r\n"
      ]
    },
    {
      "cell_type": "markdown",
      "metadata": {
        "id": "d0m7NZMGmxG2"
      },
      "source": [
        "\r\n",
        "> Si se usa el dataset de **kaggle** \"Spotify Dataset 1921-2020, 160k+ Tracks\" tenemos 110600 datos con 19 filas correspondientes a los datos de:\r\n",
        "*   acousticness\r\n",
        "*   artist\r\n",
        "*   danceability\r\n",
        "*   duration_ms\r\n",
        "*   energy\r\n",
        "*   explicit\r\n",
        "*   id\r\n",
        "*   instrumentalness\r\n",
        "*   key\r\n",
        "*   liveness\r\n",
        "*   loudness\r\n",
        "*   mode\r\n",
        "*   name\r\n",
        "*   popularity\r\n",
        "*   realese_date\r\n",
        "*   speechiness\r\n",
        "*   tempo\r\n",
        "*   valence\r\n",
        "*   year\r\n",
        "\r\n",
        "\r\n",
        "\r\n"
      ]
    },
    {
      "cell_type": "code",
      "metadata": {
        "id": "NivVUiKYoGQ-"
      },
      "source": [
        "import pandas as pd\r\n",
        "import numpy as np"
      ],
      "execution_count": null,
      "outputs": []
    },
    {
      "cell_type": "code",
      "metadata": {
        "id": "prvnC3AeoSbd"
      },
      "source": [
        "df = pd.read_csv(\"data.csv\")"
      ],
      "execution_count": null,
      "outputs": []
    },
    {
      "cell_type": "code",
      "metadata": {
        "colab": {
          "base_uri": "https://localhost:8080/",
          "height": 660
        },
        "id": "-fHhRWdboa3w",
        "outputId": "c5febf7c-fc56-4387-9f78-ea8a7337f032"
      },
      "source": [
        "df"
      ],
      "execution_count": null,
      "outputs": [
        {
          "output_type": "execute_result",
          "data": {
            "text/html": [
              "<div>\n",
              "<style scoped>\n",
              "    .dataframe tbody tr th:only-of-type {\n",
              "        vertical-align: middle;\n",
              "    }\n",
              "\n",
              "    .dataframe tbody tr th {\n",
              "        vertical-align: top;\n",
              "    }\n",
              "\n",
              "    .dataframe thead th {\n",
              "        text-align: right;\n",
              "    }\n",
              "</style>\n",
              "<table border=\"1\" class=\"dataframe\">\n",
              "  <thead>\n",
              "    <tr style=\"text-align: right;\">\n",
              "      <th></th>\n",
              "      <th>acousticness</th>\n",
              "      <th>artists</th>\n",
              "      <th>danceability</th>\n",
              "      <th>duration_ms</th>\n",
              "      <th>energy</th>\n",
              "      <th>explicit</th>\n",
              "      <th>id</th>\n",
              "      <th>instrumentalness</th>\n",
              "      <th>key</th>\n",
              "      <th>liveness</th>\n",
              "      <th>loudness</th>\n",
              "      <th>mode</th>\n",
              "      <th>name</th>\n",
              "      <th>popularity</th>\n",
              "      <th>release_date</th>\n",
              "      <th>speechiness</th>\n",
              "      <th>tempo</th>\n",
              "      <th>valence</th>\n",
              "      <th>year</th>\n",
              "    </tr>\n",
              "  </thead>\n",
              "  <tbody>\n",
              "    <tr>\n",
              "      <th>0</th>\n",
              "      <td>0.991000</td>\n",
              "      <td>['Mamie Smith']</td>\n",
              "      <td>0.598</td>\n",
              "      <td>168333</td>\n",
              "      <td>0.224</td>\n",
              "      <td>0</td>\n",
              "      <td>0cS0A1fUEUd1EW3FcF8AEI</td>\n",
              "      <td>0.000522</td>\n",
              "      <td>5</td>\n",
              "      <td>0.3790</td>\n",
              "      <td>-12.628</td>\n",
              "      <td>0</td>\n",
              "      <td>Keep A Song In Your Soul</td>\n",
              "      <td>12</td>\n",
              "      <td>1920</td>\n",
              "      <td>0.0936</td>\n",
              "      <td>149.976</td>\n",
              "      <td>0.6340</td>\n",
              "      <td>1920</td>\n",
              "    </tr>\n",
              "    <tr>\n",
              "      <th>1</th>\n",
              "      <td>0.643000</td>\n",
              "      <td>[\"Screamin' Jay Hawkins\"]</td>\n",
              "      <td>0.852</td>\n",
              "      <td>150200</td>\n",
              "      <td>0.517</td>\n",
              "      <td>0</td>\n",
              "      <td>0hbkKFIJm7Z05H8Zl9w30f</td>\n",
              "      <td>0.026400</td>\n",
              "      <td>5</td>\n",
              "      <td>0.0809</td>\n",
              "      <td>-7.261</td>\n",
              "      <td>0</td>\n",
              "      <td>I Put A Spell On You</td>\n",
              "      <td>7</td>\n",
              "      <td>1920-01-05</td>\n",
              "      <td>0.0534</td>\n",
              "      <td>86.889</td>\n",
              "      <td>0.9500</td>\n",
              "      <td>1920</td>\n",
              "    </tr>\n",
              "    <tr>\n",
              "      <th>2</th>\n",
              "      <td>0.993000</td>\n",
              "      <td>['Mamie Smith']</td>\n",
              "      <td>0.647</td>\n",
              "      <td>163827</td>\n",
              "      <td>0.186</td>\n",
              "      <td>0</td>\n",
              "      <td>11m7laMUgmOKqI3oYzuhne</td>\n",
              "      <td>0.000018</td>\n",
              "      <td>0</td>\n",
              "      <td>0.5190</td>\n",
              "      <td>-12.098</td>\n",
              "      <td>1</td>\n",
              "      <td>Golfing Papa</td>\n",
              "      <td>4</td>\n",
              "      <td>1920</td>\n",
              "      <td>0.1740</td>\n",
              "      <td>97.600</td>\n",
              "      <td>0.6890</td>\n",
              "      <td>1920</td>\n",
              "    </tr>\n",
              "    <tr>\n",
              "      <th>3</th>\n",
              "      <td>0.000173</td>\n",
              "      <td>['Oscar Velazquez']</td>\n",
              "      <td>0.730</td>\n",
              "      <td>422087</td>\n",
              "      <td>0.798</td>\n",
              "      <td>0</td>\n",
              "      <td>19Lc5SfJJ5O1oaxY0fpwfh</td>\n",
              "      <td>0.801000</td>\n",
              "      <td>2</td>\n",
              "      <td>0.1280</td>\n",
              "      <td>-7.311</td>\n",
              "      <td>1</td>\n",
              "      <td>True House Music - Xavier Santos &amp; Carlos Gomi...</td>\n",
              "      <td>17</td>\n",
              "      <td>1920-01-01</td>\n",
              "      <td>0.0425</td>\n",
              "      <td>127.997</td>\n",
              "      <td>0.0422</td>\n",
              "      <td>1920</td>\n",
              "    </tr>\n",
              "    <tr>\n",
              "      <th>4</th>\n",
              "      <td>0.295000</td>\n",
              "      <td>['Mixe']</td>\n",
              "      <td>0.704</td>\n",
              "      <td>165224</td>\n",
              "      <td>0.707</td>\n",
              "      <td>1</td>\n",
              "      <td>2hJjbsLCytGsnAHfdsLejp</td>\n",
              "      <td>0.000246</td>\n",
              "      <td>10</td>\n",
              "      <td>0.4020</td>\n",
              "      <td>-6.036</td>\n",
              "      <td>0</td>\n",
              "      <td>Xuniverxe</td>\n",
              "      <td>2</td>\n",
              "      <td>1920-10-01</td>\n",
              "      <td>0.0768</td>\n",
              "      <td>122.076</td>\n",
              "      <td>0.2990</td>\n",
              "      <td>1920</td>\n",
              "    </tr>\n",
              "    <tr>\n",
              "      <th>...</th>\n",
              "      <td>...</td>\n",
              "      <td>...</td>\n",
              "      <td>...</td>\n",
              "      <td>...</td>\n",
              "      <td>...</td>\n",
              "      <td>...</td>\n",
              "      <td>...</td>\n",
              "      <td>...</td>\n",
              "      <td>...</td>\n",
              "      <td>...</td>\n",
              "      <td>...</td>\n",
              "      <td>...</td>\n",
              "      <td>...</td>\n",
              "      <td>...</td>\n",
              "      <td>...</td>\n",
              "      <td>...</td>\n",
              "      <td>...</td>\n",
              "      <td>...</td>\n",
              "      <td>...</td>\n",
              "    </tr>\n",
              "    <tr>\n",
              "      <th>174384</th>\n",
              "      <td>0.009170</td>\n",
              "      <td>['DJ Combo', 'Sander-7', 'Tony T']</td>\n",
              "      <td>0.792</td>\n",
              "      <td>147615</td>\n",
              "      <td>0.866</td>\n",
              "      <td>0</td>\n",
              "      <td>46LhBf6TvYjZU2SMvGZAbn</td>\n",
              "      <td>0.000060</td>\n",
              "      <td>6</td>\n",
              "      <td>0.1780</td>\n",
              "      <td>-5.089</td>\n",
              "      <td>0</td>\n",
              "      <td>The One</td>\n",
              "      <td>0</td>\n",
              "      <td>2020-12-25</td>\n",
              "      <td>0.0356</td>\n",
              "      <td>125.972</td>\n",
              "      <td>0.1860</td>\n",
              "      <td>2020</td>\n",
              "    </tr>\n",
              "    <tr>\n",
              "      <th>174385</th>\n",
              "      <td>0.795000</td>\n",
              "      <td>['Alessia Cara']</td>\n",
              "      <td>0.429</td>\n",
              "      <td>144720</td>\n",
              "      <td>0.211</td>\n",
              "      <td>0</td>\n",
              "      <td>7tue2Wemjd0FZzRtDrQFZd</td>\n",
              "      <td>0.000000</td>\n",
              "      <td>4</td>\n",
              "      <td>0.1960</td>\n",
              "      <td>-11.665</td>\n",
              "      <td>1</td>\n",
              "      <td>A Little More</td>\n",
              "      <td>0</td>\n",
              "      <td>2021-01-22</td>\n",
              "      <td>0.0360</td>\n",
              "      <td>94.710</td>\n",
              "      <td>0.2280</td>\n",
              "      <td>2021</td>\n",
              "    </tr>\n",
              "    <tr>\n",
              "      <th>174386</th>\n",
              "      <td>0.806000</td>\n",
              "      <td>['Roger Fly']</td>\n",
              "      <td>0.671</td>\n",
              "      <td>218147</td>\n",
              "      <td>0.589</td>\n",
              "      <td>0</td>\n",
              "      <td>48Qj61hOdYmUCFJbpQ29Ob</td>\n",
              "      <td>0.920000</td>\n",
              "      <td>4</td>\n",
              "      <td>0.1130</td>\n",
              "      <td>-12.393</td>\n",
              "      <td>0</td>\n",
              "      <td>Together</td>\n",
              "      <td>0</td>\n",
              "      <td>2020-12-09</td>\n",
              "      <td>0.0282</td>\n",
              "      <td>108.058</td>\n",
              "      <td>0.7140</td>\n",
              "      <td>2020</td>\n",
              "    </tr>\n",
              "    <tr>\n",
              "      <th>174387</th>\n",
              "      <td>0.920000</td>\n",
              "      <td>['Taylor Swift']</td>\n",
              "      <td>0.462</td>\n",
              "      <td>244000</td>\n",
              "      <td>0.240</td>\n",
              "      <td>1</td>\n",
              "      <td>1gcyHQpBQ1lfXGdhZmWrHP</td>\n",
              "      <td>0.000000</td>\n",
              "      <td>0</td>\n",
              "      <td>0.1130</td>\n",
              "      <td>-12.077</td>\n",
              "      <td>1</td>\n",
              "      <td>champagne problems</td>\n",
              "      <td>69</td>\n",
              "      <td>2021-01-07</td>\n",
              "      <td>0.0377</td>\n",
              "      <td>171.319</td>\n",
              "      <td>0.3200</td>\n",
              "      <td>2021</td>\n",
              "    </tr>\n",
              "    <tr>\n",
              "      <th>174388</th>\n",
              "      <td>0.239000</td>\n",
              "      <td>['Roger Fly']</td>\n",
              "      <td>0.677</td>\n",
              "      <td>197710</td>\n",
              "      <td>0.460</td>\n",
              "      <td>0</td>\n",
              "      <td>57tgYkWQTNHVFEt6xDKKZj</td>\n",
              "      <td>0.891000</td>\n",
              "      <td>7</td>\n",
              "      <td>0.2150</td>\n",
              "      <td>-12.237</td>\n",
              "      <td>1</td>\n",
              "      <td>Improvisations</td>\n",
              "      <td>0</td>\n",
              "      <td>2020-12-09</td>\n",
              "      <td>0.0258</td>\n",
              "      <td>112.208</td>\n",
              "      <td>0.7470</td>\n",
              "      <td>2020</td>\n",
              "    </tr>\n",
              "  </tbody>\n",
              "</table>\n",
              "<p>174389 rows × 19 columns</p>\n",
              "</div>"
            ],
            "text/plain": [
              "        acousticness                             artists  ...  valence  year\n",
              "0           0.991000                     ['Mamie Smith']  ...   0.6340  1920\n",
              "1           0.643000           [\"Screamin' Jay Hawkins\"]  ...   0.9500  1920\n",
              "2           0.993000                     ['Mamie Smith']  ...   0.6890  1920\n",
              "3           0.000173                 ['Oscar Velazquez']  ...   0.0422  1920\n",
              "4           0.295000                            ['Mixe']  ...   0.2990  1920\n",
              "...              ...                                 ...  ...      ...   ...\n",
              "174384      0.009170  ['DJ Combo', 'Sander-7', 'Tony T']  ...   0.1860  2020\n",
              "174385      0.795000                    ['Alessia Cara']  ...   0.2280  2021\n",
              "174386      0.806000                       ['Roger Fly']  ...   0.7140  2020\n",
              "174387      0.920000                    ['Taylor Swift']  ...   0.3200  2021\n",
              "174388      0.239000                       ['Roger Fly']  ...   0.7470  2020\n",
              "\n",
              "[174389 rows x 19 columns]"
            ]
          },
          "metadata": {
            "tags": []
          },
          "execution_count": 24
        }
      ]
    },
    {
      "cell_type": "markdown",
      "metadata": {
        "id": "U38nJgLKrNNl"
      },
      "source": [
        "\r\n",
        "> Si se usa el dataset de **kaggle** \"Top 50 Spotify Songs - 2019\" tenemos 110600 datos con 19 filas correspondientes a los datos de:\r\n",
        "*   acousticness\r\n",
        "*   artist\r\n",
        "*   danceability\r\n",
        "*   duration_ms\r\n",
        "*   energy\r\n",
        "*   explicit\r\n",
        "*   id\r\n",
        "*   instrumentalness\r\n",
        "*   key\r\n",
        "*   liveness\r\n",
        "*   loudness\r\n",
        "*   mode\r\n",
        "*   name\r\n",
        "*   popularity\r\n",
        "*   realese_date\r\n",
        "*   speechiness\r\n",
        "*   tempo\r\n",
        "*   valence\r\n",
        "*   year\r\n",
        "\r\n"
      ]
    },
    {
      "cell_type": "markdown",
      "metadata": {
        "id": "G2H3LksW3EUt"
      },
      "source": [
        "Si se utiliza la data de spotify por medio de **Spotioy** la data a la que tendriamos acceso practicamente estaria limitada por las canciones que esten disponibles en la plataforma de spotify y tendriamos acceso a las variables de que están especificadas en el dataset, para este df utilizamos:\r\n",
        "*   album\r\n",
        "*   track_number\r\n",
        "*   id\r\n",
        "*   name\r\n",
        "*   uri\r\n",
        "*   acousticness\r\n",
        "*   danceability\r\n",
        "*   energy\r\n",
        "*   indtrumentalness\r\n",
        "*   liveness\r\n",
        "*   loudness\r\n",
        "*   speechiness\r\n",
        "*   tempo\r\n",
        "*   valence\r\n",
        "*   popularity\r\n",
        "*   artist"
      ]
    },
    {
      "cell_type": "code",
      "metadata": {
        "colab": {
          "base_uri": "https://localhost:8080/"
        },
        "id": "y7WdNj2Z3C6A",
        "outputId": "1ee1e6f0-9f0c-42f9-f03d-e88f8685ddaf"
      },
      "source": [
        "!pip install spotipy"
      ],
      "execution_count": null,
      "outputs": [
        {
          "output_type": "stream",
          "text": [
            "Requirement already satisfied: spotipy in /usr/local/lib/python3.7/dist-packages (2.17.1)\n",
            "Requirement already satisfied: six>=1.15.0 in /usr/local/lib/python3.7/dist-packages (from spotipy) (1.15.0)\n",
            "Requirement already satisfied: requests>=2.25.0 in /usr/local/lib/python3.7/dist-packages (from spotipy) (2.25.1)\n",
            "Requirement already satisfied: urllib3>=1.26.0 in /usr/local/lib/python3.7/dist-packages (from spotipy) (1.26.3)\n",
            "Requirement already satisfied: idna<3,>=2.5 in /usr/local/lib/python3.7/dist-packages (from requests>=2.25.0->spotipy) (2.10)\n",
            "Requirement already satisfied: certifi>=2017.4.17 in /usr/local/lib/python3.7/dist-packages (from requests>=2.25.0->spotipy) (2020.12.5)\n",
            "Requirement already satisfied: chardet<5,>=3.0.2 in /usr/local/lib/python3.7/dist-packages (from requests>=2.25.0->spotipy) (3.0.4)\n"
          ],
          "name": "stdout"
        }
      ]
    },
    {
      "cell_type": "code",
      "metadata": {
        "id": "y1FN_9D73p1l"
      },
      "source": [
        "import spotipy\r\n",
        "from spotipy.oauth2 import SpotifyClientCredentials #Accesar a la data de spotify"
      ],
      "execution_count": null,
      "outputs": []
    },
    {
      "cell_type": "code",
      "metadata": {
        "id": "pnoyKpIi3raQ"
      },
      "source": [
        "client_id= \"72654f91e8424dc8b4924dc4cdf3674a\"\r\n",
        "client_secret= \"968caf037e674bb0a89533fde2831f25\"\r\n",
        "\r\n",
        "client_credentials_manager = SpotifyClientCredentials(client_id=client_id, client_secret=client_secret)\r\n",
        "\r\n",
        "sp = spotipy.Spotify(client_credentials_manager=client_credentials_manager) #API de spotify"
      ],
      "execution_count": null,
      "outputs": []
    },
    {
      "cell_type": "code",
      "metadata": {
        "colab": {
          "base_uri": "https://localhost:8080/"
        },
        "id": "g-DwTYyQ3vNJ",
        "outputId": "812f9b74-d12a-4032-b0c5-d7642502ae5f"
      },
      "source": [
        "name = \"Parcels\" #Artista\r\n",
        "\r\n",
        "result = sp.search(name) #Busqueda\r\n",
        "\r\n",
        "result['tracks']['items'][0]['artists']"
      ],
      "execution_count": null,
      "outputs": [
        {
          "output_type": "execute_result",
          "data": {
            "text/plain": [
              "[{'external_urls': {'spotify': 'https://open.spotify.com/artist/3oKRxpszQKUjjaHz388fVA'},\n",
              "  'href': 'https://api.spotify.com/v1/artists/3oKRxpszQKUjjaHz388fVA',\n",
              "  'id': '3oKRxpszQKUjjaHz388fVA',\n",
              "  'name': 'Parcels',\n",
              "  'type': 'artist',\n",
              "  'uri': 'spotify:artist:3oKRxpszQKUjjaHz388fVA'}]"
            ]
          },
          "metadata": {
            "tags": []
          },
          "execution_count": 28
        }
      ]
    },
    {
      "cell_type": "code",
      "metadata": {
        "colab": {
          "base_uri": "https://localhost:8080/",
          "height": 35
        },
        "id": "sb08NIgZ4GNa",
        "outputId": "a24393c6-c932-4cfa-89f3-d943abca5191"
      },
      "source": [
        "#Uri del artista\r\n",
        "artist_uri = result['tracks']['items'][0]['artists'][0]['uri']\r\n",
        "artist_uri"
      ],
      "execution_count": null,
      "outputs": [
        {
          "output_type": "execute_result",
          "data": {
            "application/vnd.google.colaboratory.intrinsic+json": {
              "type": "string"
            },
            "text/plain": [
              "'spotify:artist:3oKRxpszQKUjjaHz388fVA'"
            ]
          },
          "metadata": {
            "tags": []
          },
          "execution_count": 29
        }
      ]
    },
    {
      "cell_type": "code",
      "metadata": {
        "id": "Yu_QiDlg4LSU"
      },
      "source": [
        ""
      ],
      "execution_count": null,
      "outputs": []
    },
    {
      "cell_type": "code",
      "metadata": {
        "colab": {
          "base_uri": "https://localhost:8080/"
        },
        "id": "WoFGlG9r4RQM",
        "outputId": "b32cceea-8b81-4df9-cb67-6554f9ae91b3"
      },
      "source": [
        "\r\n",
        "sp_albums = sp.artist_albums(artist_uri, album_type='album')\r\n",
        "#Artistas y uris en listas separadas\r\n",
        "album_names = []\r\n",
        "album_uris = []\r\n",
        "for i in range(len(sp_albums['items'])):\r\n",
        "    album_names.append(sp_albums['items'][i]['name'])\r\n",
        "    album_uris.append(sp_albums['items'][i]['uri'])\r\n",
        "    \r\n",
        "album_names\r\n",
        "album_uris"
      ],
      "execution_count": null,
      "outputs": [
        {
          "output_type": "execute_result",
          "data": {
            "text/plain": [
              "['spotify:album:4ckyPfMqe26PrOgEWdjWns',\n",
              " 'spotify:album:6tNAnVG8xrmMbINuWutrNy']"
            ]
          },
          "metadata": {
            "tags": []
          },
          "execution_count": 30
        }
      ]
    },
    {
      "cell_type": "code",
      "metadata": {
        "colab": {
          "base_uri": "https://localhost:8080/"
        },
        "id": "UbSFGAi-4Vl8",
        "outputId": "34003be4-1129-4427-b071-3e40a7fd6c1f"
      },
      "source": [
        "album_names"
      ],
      "execution_count": null,
      "outputs": [
        {
          "output_type": "execute_result",
          "data": {
            "text/plain": [
              "['Live Vol. 1', 'Parcels']"
            ]
          },
          "metadata": {
            "tags": []
          },
          "execution_count": 31
        }
      ]
    },
    {
      "cell_type": "code",
      "metadata": {
        "id": "R28IVr9E4ZtX"
      },
      "source": [
        "def albumSongs(uri):\r\n",
        "    album = uri #Nombre del album a uri\r\n",
        "    spotify_albums[album] = {} #Diccionario especifico para el album\r\n",
        "    spotify_albums[album]['album'] = [] #create empty list\r\n",
        "    spotify_albums[album]['track_number'] = []\r\n",
        "    spotify_albums[album]['id'] = []\r\n",
        "    spotify_albums[album]['name'] = []\r\n",
        "    spotify_albums[album]['uri'] = []\r\n",
        "    tracks = sp.album_tracks(album) #Data de los albumes\r\n",
        "    for n in range(len(tracks['items'])): #Para cada cancion\r\n",
        "            spotify_albums[album]['album'].append(album_names[album_count])\r\n",
        "            spotify_albums[album]['track_number'].append(tracks['items'][n]['track_number'])\r\n",
        "            spotify_albums[album]['id'].append(tracks['items'][n]['id'])\r\n",
        "            spotify_albums[album]['name'].append(tracks['items'][n]['name'])\r\n",
        "            spotify_albums[album]['uri'].append(tracks['items'][n]['uri'])"
      ],
      "execution_count": null,
      "outputs": []
    },
    {
      "cell_type": "code",
      "metadata": {
        "colab": {
          "base_uri": "https://localhost:8080/"
        },
        "id": "CxiC2bVy4d1P",
        "outputId": "08ef8098-0c69-450d-c909-122a85cf58dc"
      },
      "source": [
        "spotify_albums = {}\r\n",
        "album_count = 0\r\n",
        "for i in album_uris: #Cada album\r\n",
        "    albumSongs(i)\r\n",
        "    print(\"Album \" + str(album_names[album_count]) + \" songs has been added to spotify_albums dictionary\")\r\n",
        "    album_count+=1 "
      ],
      "execution_count": null,
      "outputs": [
        {
          "output_type": "stream",
          "text": [
            "Album Live Vol. 1 songs has been added to spotify_albums dictionary\n",
            "Album Parcels songs has been added to spotify_albums dictionary\n"
          ],
          "name": "stdout"
        }
      ]
    },
    {
      "cell_type": "code",
      "metadata": {
        "id": "CXuxEFMF4hq8"
      },
      "source": [
        "\r\n",
        "def audio_features(album):\r\n",
        "    #Add new key-values to store audio features\r\n",
        "    spotify_albums[album]['acousticness'] = []\r\n",
        "    spotify_albums[album]['danceability'] = []\r\n",
        "    spotify_albums[album]['energy'] = []\r\n",
        "    spotify_albums[album]['instrumentalness'] = []\r\n",
        "    spotify_albums[album]['liveness'] = []\r\n",
        "    spotify_albums[album]['loudness'] = []\r\n",
        "    spotify_albums[album]['speechiness'] = []\r\n",
        "    spotify_albums[album]['tempo'] = []\r\n",
        "    spotify_albums[album]['valence'] = []\r\n",
        "    spotify_albums[album]['popularity'] = []\r\n",
        "    track_count = 0\r\n",
        "    for track in spotify_albums[album]['uri']:\r\n",
        "        #Obtienes los features de la cancion\r\n",
        "        features = sp.audio_features(track)\r\n",
        "        \r\n",
        "        #Append to relevant key-value\r\n",
        "        spotify_albums[album]['acousticness'].append(features[0]['acousticness'])\r\n",
        "        spotify_albums[album]['danceability'].append(features[0]['danceability'])\r\n",
        "        spotify_albums[album]['energy'].append(features[0]['energy'])\r\n",
        "        spotify_albums[album]['instrumentalness'].append(features[0]['instrumentalness'])\r\n",
        "        spotify_albums[album]['liveness'].append(features[0]['liveness'])\r\n",
        "        spotify_albums[album]['loudness'].append(features[0]['loudness'])\r\n",
        "        spotify_albums[album]['speechiness'].append(features[0]['speechiness'])\r\n",
        "        spotify_albums[album]['tempo'].append(features[0]['tempo'])\r\n",
        "        spotify_albums[album]['valence'].append(features[0]['valence'])\r\n",
        "        #popularity esta almacenada en otra parte\r\n",
        "        pop = sp.track(track)\r\n",
        "        spotify_albums[album]['popularity'].append(pop['popularity'])\r\n",
        "        track_count+=1"
      ],
      "execution_count": null,
      "outputs": []
    },
    {
      "cell_type": "code",
      "metadata": {
        "id": "NZU4Y4xx4nPu"
      },
      "source": [
        "import time\r\n",
        "import numpy as np\r\n",
        "sleep_min = 2\r\n",
        "sleep_max = 5\r\n",
        "start_time = time.time()\r\n",
        "request_count = 0\r\n",
        "for i in spotify_albums:\r\n",
        "    audio_features(i)\r\n",
        "    request_count+=1\r\n",
        "    if request_count % 5 == 0:\r\n",
        "        print(str(request_count) + \" playlists completed\")\r\n",
        "        time.sleep(np.random.uniform(sleep_min, sleep_max))\r\n",
        "        print('Loop #: {}'.format(request_count))\r\n",
        "        print('Elapsed Time: {} seconds'.format(time.time() - start_time))"
      ],
      "execution_count": null,
      "outputs": []
    },
    {
      "cell_type": "code",
      "metadata": {
        "colab": {
          "base_uri": "https://localhost:8080/"
        },
        "id": "sJhXfRk44oic",
        "outputId": "3a04bbf9-635b-41f1-a387-08e7831ed8d0"
      },
      "source": [
        "\r\n",
        "dic_df = {}\r\n",
        "dic_df['album'] = []\r\n",
        "dic_df['track_number'] = []\r\n",
        "dic_df['id'] = []\r\n",
        "dic_df['name'] = []\r\n",
        "dic_df['uri'] = []\r\n",
        "dic_df['acousticness'] = []\r\n",
        "dic_df['danceability'] = []\r\n",
        "dic_df['energy'] = []\r\n",
        "dic_df['instrumentalness'] = []\r\n",
        "dic_df['liveness'] = []\r\n",
        "dic_df['loudness'] = []\r\n",
        "dic_df['speechiness'] = []\r\n",
        "dic_df['tempo'] = []\r\n",
        "dic_df['valence'] = []\r\n",
        "dic_df['popularity'] = []\r\n",
        "for album in spotify_albums: \r\n",
        "    for feature in spotify_albums[album]:\r\n",
        "        dic_df[feature].extend(spotify_albums[album][feature])\r\n",
        "        \r\n",
        "len(dic_df['album'])"
      ],
      "execution_count": null,
      "outputs": [
        {
          "output_type": "execute_result",
          "data": {
            "text/plain": [
              "30"
            ]
          },
          "metadata": {
            "tags": []
          },
          "execution_count": 38
        }
      ]
    },
    {
      "cell_type": "code",
      "metadata": {
        "id": "9b0jOkxA4sRv"
      },
      "source": [
        "import pandas as pd\r\n",
        "df2 = pd.DataFrame.from_dict(dic_df)\r\n",
        "df2['artist'] = name\r\n",
        "df2"
      ],
      "execution_count": null,
      "outputs": []
    },
    {
      "cell_type": "markdown",
      "metadata": {
        "id": "y96D8t4S7qr_"
      },
      "source": [
        "#3. ¿Qué columnas tengo y qué información tengo en cada una de esas columnas?"
      ]
    },
    {
      "cell_type": "markdown",
      "metadata": {
        "id": "gTJEa9clAJqo"
      },
      "source": [
        "Teniendo en cuenta que utilizando spotipy tenemos una mayor cantidad de datos, tendremos en cuenta que será la data que utilizaremos, en cada una de las columnas tenemos la siguiente informacion:\r\n",
        "*   **acousticness** ... este valor describe qué tan acústica es una canción. Una puntuación de 1.0 significa que es más probable que la canción sea acústica.\r\n",
        "*   **artist** ... nos da el nombre del artista de la canción.\r\n",
        "*   **danceability** ... “La capacidad de baile describe qué tan adecuada es una pista para bailar en función de una combinación de elementos musicales que incluyen el tempo, la estabilidad del ritmo, la fuerza del ritmo y la regularidad general. Un valor de 0.0 es menos bailable y 1.0 es más bailable ”.\r\n",
        "*   **duration_ms** ... nos presenta informacion sobre la duración de la canción en ms.\r\n",
        "*   **energy** ... (energía) representa una medida perceptiva de intensidad y actividad. Normalmente, las pistas enérgicas se sienten rápidas, ruidosas y ruidosas ”.\r\n",
        "*   **explicit** ... nos dice si la canción presenta lenguaje explícito o no.\r\n",
        "*   **id** ... nos proporciona el id (único) de la canción.\r\n",
        "*   **instrumentalness** ... este valor representa la cantidad de voces en la canción. Cuanto más cerca esté de 1.0, más instrumental será la canción.\r\n",
        "*   **key** ... nos proporciona la clave musical de la canción, por ejemplo: 0 = C, 1 = C#/Db, 2 = D o -1 si no fue detectada.\r\n",
        "*   **liveness** ... este valor describe la probabilidad de que la canción se grabe con una audiencia en vivo. Según la documentación oficial, “ un valor superior a 0,8 proporciona una gran probabilidad de que la pista esté activa” .\r\n",
        "*   **loudness**\r\n",
        "*   **mode** ... indica la modalidad de la cancíon (mayor o o menor) Mayor representado por 1 y menor por 0.\r\n",
        "*   **name** ... nos da información sobre el nombre de la canción.\r\n",
        "*   **popularity** ... la popularidad de la canción esta calculada por medio de un algoritmo propio de spotify.\r\n",
        "*   **realese_date** ... fecha de lanzamiento de la canción.\r\n",
        "*   **speechiness** ... “El habla detecta la presencia de palabras habladas en una pista ”. Si el habla de una canción es superior a 0,66, probablemente esté compuesta de palabras habladas, una puntuación entre 0,33 y 0,66 es una canción que puede contener tanto música como palabras, y una puntuación inferior a 0,33 significa que la canción no tiene ningún habla.\r\n",
        "*   **tempo** ... tempo estimado de la canción, beats por minuto, BPM.\r\n",
        "*   **valence** ... “ Una medida de 0.0 a 1.0 que describe la positividad musical que transmite una pista. Las pistas con valencia alta suenan más positivas (por ejemplo, feliz, alegre, eufórico), mientras que las pistas con valencia baja suenan más negativas (por ejemplo, triste, deprimido, enojado) ”.\r\n",
        "*   **year** ... nos proporciona el año de la canción."
      ]
    },
    {
      "cell_type": "markdown",
      "metadata": {
        "id": "bpKsTF2eEwVW"
      },
      "source": [
        "#4. Los nombres que tienen mis columnas, ¿son el nombre más apropiado?"
      ]
    },
    {
      "cell_type": "code",
      "metadata": {
        "id": "tyaapBzXE3CV"
      },
      "source": [
        "Si, los nombres de las columnas corresponden a la informacion que nos proporcionan.........................................."
      ],
      "execution_count": null,
      "outputs": []
    },
    {
      "cell_type": "markdown",
      "metadata": {
        "id": "vgoKHt-FFHJe"
      },
      "source": [
        "#5. ¿Qué tipos de datos tengo en cada columna? ¿Parecen ser el tipo correcto de datos? ¿O es un tipo de datos \"incorrecto\"?"
      ]
    },
    {
      "cell_type": "code",
      "metadata": {
        "colab": {
          "base_uri": "https://localhost:8080/"
        },
        "id": "lNszyeuWFbxo",
        "outputId": "6e63e927-7512-4fb3-c6b9-134d5d6eaaf1"
      },
      "source": [
        "df2.dtypes"
      ],
      "execution_count": null,
      "outputs": [
        {
          "output_type": "execute_result",
          "data": {
            "text/plain": [
              "album                object\n",
              "track_number          int64\n",
              "id                   object\n",
              "name                 object\n",
              "uri                  object\n",
              "acousticness        float64\n",
              "danceability        float64\n",
              "energy              float64\n",
              "instrumentalness    float64\n",
              "liveness            float64\n",
              "loudness            float64\n",
              "speechiness         float64\n",
              "tempo               float64\n",
              "valence             float64\n",
              "popularity            int64\n",
              "artist               object\n",
              "dtype: object"
            ]
          },
          "metadata": {
            "tags": []
          },
          "execution_count": 21
        }
      ]
    },
    {
      "cell_type": "markdown",
      "metadata": {
        "id": "zIsXA_rdFNHO"
      },
      "source": [
        "Si, todos los tipos de datos que tenemos corresponden a los datos que tenemos en el dataset, por lo que son correctos.\r\n",
        "\r\n"
      ]
    },
    {
      "cell_type": "markdown",
      "metadata": {
        "id": "ysiNniHPGalH"
      },
      "source": [
        "#6. Si selecciono algunas filas al azar y las observo, ¿estoy obteniendo los datos que debería? ¿o hay datos que parecen estar \"sucios\" o \"incorrectos\"?"
      ]
    },
    {
      "cell_type": "markdown",
      "metadata": {
        "id": "JDt_GnDkGm8-"
      },
      "source": [
        "En general, los datos proprcionados por la **API de Spotify** están muy limpios, sin espacios vacios y corresponden a lo que deberian de contener la fila."
      ]
    }
  ]
}